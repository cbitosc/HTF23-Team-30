{
 "cells": [
  {
   "cell_type": "code",
   "execution_count": 7,
   "metadata": {},
   "outputs": [],
   "source": [
    "def get_class_names_from_folder(directory):\n",
    "  \"\"\"\n",
    "  Get the classnames from train folder for example\n",
    "  \"\"\"\n",
    "  import pathlib\n",
    "  import numpy as np\n",
    "  data_dir = pathlib.Path(directory)\n",
    "  class_names = np.array(sorted([item.name for item in data_dir.glob(\"*\")])) # Created a list of class names \n",
    "  return class_names\n",
    "  print(class_names)"
   ]
  },
  {
   "cell_type": "code",
   "execution_count": 72,
   "metadata": {},
   "outputs": [
    {
     "name": "stdout",
     "output_type": "stream",
     "text": [
      "['KanaA' 'KanaBA' 'Test' 'Train' 'Val' 'kanaCHI' 'kanaDA' 'kanaE' 'kanaFU'\n",
      " 'kanaHA' 'kanaHE' 'kanaHI' 'kanaHO' 'kanaI' 'kanaJI' 'kanaKA' 'kanaKE'\n",
      " 'kanaKI' 'kanaKO' 'kanaKU' 'kanaMA' 'kanaME' 'kanaMI' 'kanaMO' 'kanaMU'\n",
      " 'kanaN' 'kanaNA' 'kanaNE' 'kanaNI' 'kanaNO' 'kanaNU' 'kanaO' 'kanaPI'\n",
      " 'kanaRA' 'kanaRE' 'kanaRI' 'kanaRO' 'kanaRU' 'kanaSA' 'kanaSE' 'kanaSHI'\n",
      " 'kanaSO' 'kanaSU' 'kanaTA' 'kanaTE' 'kanaTO' 'kanaTSU' 'kanaU' 'kanaWA'\n",
      " 'kanaWO' 'kanaYA' 'kanaYO' 'kanaYU']\n",
      "<class 'numpy.ndarray'>\n"
     ]
    }
   ],
   "source": [
    "class_names = get_class_names_from_folder(directory=\"hiragana/train_data/\")\n",
    "print(class_names)\n",
    "print(type(class_names))"
   ]
  },
  {
   "cell_type": "code",
   "execution_count": 73,
   "metadata": {},
   "outputs": [],
   "source": [
    "import matplotlib.pyplot as plt\n",
    "import matplotlib.image as mpimg\n",
    "\n",
    "import os\n",
    "import random"
   ]
  },
  {
   "cell_type": "code",
   "execution_count": 75,
   "metadata": {},
   "outputs": [
    {
     "data": {
      "image/png": "[encoded data removed]",
      "text/plain": [
       "<Figure size 640x480 with 1 Axes>"
      ]
     },
     "metadata": {},
     "output_type": "display_data"
    }
   ],
   "source": [
    "def visualize_random_image(target_dir, target_class):\n",
    "  \"\"\"\n",
    "  Visualises random image from exact directory\n",
    "  \"\"\"\n",
    "  image_dir = target_dir + target_class\n",
    "  random_image = random.sample(os.listdir(image_dir), 1)\n",
    "\n",
    "  img = mpimg.imread(image_dir + \"/\" + random_image[0])\n",
    "  plt.imshow(img)\n",
    "  plt.title(target_class)\n",
    "visualize_random_image(\"hiragana/train_data/\", \"KanaTSU\")"
   ]
  },
  {
   "cell_type": "code",
   "execution_count": 101,
   "metadata": {},
   "outputs": [
    {
     "name": "stdout",
     "output_type": "stream",
     "text": [
      "Found 800 images belonging to 53 classes.\n"
     ]
    },
    {
     "name": "stdout",
     "output_type": "stream",
     "text": [
      "Found 100 images belonging to 53 classes.\n",
      "Found 100 images belonging to 53 classes.\n"
     ]
    }
   ],
   "source": [
    "import tensorflow as tf\n",
    "from tensorflow.keras.preprocessing.image import ImageDataGenerator\n",
    "\n",
    "train_datagen = ImageDataGenerator(rescale=1/255.)\n",
    "test_datagen = ImageDataGenerator(rescale=1/255.)\n",
    "val_datagen = ImageDataGenerator(rescale=1/255.)\n",
    "\n",
    "train_data = train_datagen.flow_from_directory(directory=\"hiragana/train_data/\",\n",
    "                                               target_size=(83, 84),\n",
    "                                               batch_size=32,\n",
    "                                               class_mode=\"categorical\")\n",
    "\n",
    "test_data = test_datagen.flow_from_directory(directory=\"hiragana/test_data/\",\n",
    "                                               target_size=(83, 84),\n",
    "                                               batch_size=32,\n",
    "                                               class_mode=\"categorical\")\n",
    "\n",
    "validation_data = val_datagen.flow_from_directory(directory=\"hiragana/val_data\",\n",
    "                                               target_size=(83, 84),\n",
    "                                               batch_size=32,\n",
    "                                               class_mode=\"categorical\")"
   ]
  },
  {
   "cell_type": "code",
   "execution_count": 102,
   "metadata": {},
   "outputs": [],
   "source": [
    "from tensorflow.keras.models import Sequential\n",
    "from tensorflow.keras.layers import Dense, Flatten, Conv2D, MaxPool2D\n",
    "from tensorflow.keras.optimizers import Adam"
   ]
  },
  {
   "cell_type": "code",
   "execution_count": 107,
   "metadata": {},
   "outputs": [],
   "source": [
    "# Create model\n",
    "model = Sequential([\n",
    "    Conv2D(10, 3, activation=\"relu\", input_shape=(83, 84, 3)),\n",
    "    MaxPool2D(pool_size=2),\n",
    "    Conv2D(10, 3, activation=\"relu\"),\n",
    "    MaxPool2D(pool_size=2),\n",
    "    Flatten(),\n",
    "    Dense(53, activation=\"softmax\")\n",
    "])\n",
    "\n",
    "# Compile the model\n",
    "model.compile(loss=\"categorical_crossentropy\",\n",
    "              optimizer=Adam(),\n",
    "              metrics=[\"accuracy\"])"
   ]
  },
  {
   "cell_type": "code",
   "execution_count": 108,
   "metadata": {},
   "outputs": [
    {
     "name": "stdout",
     "output_type": "stream",
     "text": [
      "Model: \"sequential_15\"\n",
      "_________________________________________________________________\n",
      " Layer (type)                Output Shape              Param #   \n",
      "=================================================================\n",
      " conv2d_30 (Conv2D)          (None, 81, 82, 10)        280       \n",
      "                                                                 \n",
      " max_pooling2d_30 (MaxPoolin  (None, 40, 41, 10)       0         \n",
      " g2D)                                                            \n",
      "                                                                 \n",
      " conv2d_31 (Conv2D)          (None, 38, 39, 10)        910       \n",
      "                                                                 \n",
      " max_pooling2d_31 (MaxPoolin  (None, 19, 19, 10)       0         \n",
      " g2D)                                                            \n",
      "                                                                 \n",
      " flatten_15 (Flatten)        (None, 3610)              0         \n",
      "                                                                 \n",
      " dense_15 (Dense)            (None, 53)                191383    \n",
      "                                                                 \n",
      "=================================================================\n",
      "Total params: 192,573\n",
      "Trainable params: 192,573\n",
      "Non-trainable params: 0\n",
      "_________________________________________________________________\n"
     ]
    }
   ],
   "source": [
    "model.summary()"
   ]
  },
  {
   "cell_type": "code",
   "execution_count": 109,
   "metadata": {},
   "outputs": [
    {
     "name": "stdout",
     "output_type": "stream",
     "text": [
      "Epoch 1/15\n",
      "25/25 [==============================] - 3s 106ms/step - loss: 3.1403 - accuracy: 0.3262 - val_loss: 1.2522 - val_accuracy: 0.8600\n",
      "Epoch 2/15\n",
      "25/25 [==============================] - 1s 42ms/step - loss: 0.3641 - accuracy: 0.9200 - val_loss: 0.3404 - val_accuracy: 0.9000\n",
      "Epoch 3/15\n",
      "25/25 [==============================] - 1s 43ms/step - loss: 0.0745 - accuracy: 0.9762 - val_loss: 0.3837 - val_accuracy: 0.8800\n",
      "Epoch 4/15\n",
      "25/25 [==============================] - 1s 41ms/step - loss: 0.0294 - accuracy: 0.9912 - val_loss: 0.3928 - val_accuracy: 0.8600\n",
      "Epoch 5/15\n",
      "25/25 [==============================] - 1s 41ms/step - loss: 0.0153 - accuracy: 0.9912 - val_loss: 0.4360 - val_accuracy: 0.8700\n",
      "Epoch 6/15\n",
      "25/25 [==============================] - 1s 42ms/step - loss: 0.0080 - accuracy: 0.9975 - val_loss: 0.3054 - val_accuracy: 0.8900\n",
      "Epoch 7/15\n",
      "25/25 [==============================] - 1s 42ms/step - loss: 0.0048 - accuracy: 0.9987 - val_loss: 0.3096 - val_accuracy: 0.9100\n",
      "Epoch 8/15\n",
      "25/25 [==============================] - 1s 43ms/step - loss: 0.0016 - accuracy: 1.0000 - val_loss: 0.3048 - val_accuracy: 0.9000\n",
      "Epoch 9/15\n",
      "25/25 [==============================] - 1s 41ms/step - loss: 7.5762e-04 - accuracy: 1.0000 - val_loss: 0.3048 - val_accuracy: 0.9000\n",
      "Epoch 10/15\n",
      "25/25 [==============================] - 1s 40ms/step - loss: 5.8465e-04 - accuracy: 1.0000 - val_loss: 0.3022 - val_accuracy: 0.8900\n",
      "Epoch 11/15\n",
      "25/25 [==============================] - 1s 42ms/step - loss: 4.7823e-04 - accuracy: 1.0000 - val_loss: 0.3078 - val_accuracy: 0.8900\n",
      "Epoch 12/15\n",
      "25/25 [==============================] - 1s 44ms/step - loss: 4.0280e-04 - accuracy: 1.0000 - val_loss: 0.3061 - val_accuracy: 0.8900\n",
      "Epoch 13/15\n",
      "25/25 [==============================] - 1s 42ms/step - loss: 3.4138e-04 - accuracy: 1.0000 - val_loss: 0.3070 - val_accuracy: 0.8900\n",
      "Epoch 14/15\n",
      "25/25 [==============================] - 1s 42ms/step - loss: 2.8848e-04 - accuracy: 1.0000 - val_loss: 0.3106 - val_accuracy: 0.8900\n",
      "Epoch 15/15\n",
      "25/25 [==============================] - 1s 42ms/step - loss: 2.5187e-04 - accuracy: 1.0000 - val_loss: 0.3120 - val_accuracy: 0.8900\n"
     ]
    }
   ],
   "source": [
    "history = model.fit(train_data,\n",
    "                    batch_size=32,\n",
    "                    epochs=15,\n",
    "                    steps_per_epoch=len(train_data),\n",
    "                    validation_data=validation_data,\n",
    "                    validation_steps=len(validation_data))"
   ]
  },
  {
   "cell_type": "code",
   "execution_count": 110,
   "metadata": {},
   "outputs": [
    {
     "name": "stdout",
     "output_type": "stream",
     "text": [
      "4/4 [==============================] - 0s 79ms/step - loss: 0.3425 - accuracy: 0.9200\n"
     ]
    },
    {
     "data": {
      "text/plain": [
       "[0.34254541993141174, 0.9200000166893005]"
      ]
     },
     "execution_count": 110,
     "metadata": {},
     "output_type": "execute_result"
    }
   ],
   "source": [
    "model.evaluate(test_data)"
   ]
  },
  {
   "cell_type": "code",
   "execution_count": 127,
   "metadata": {},
   "outputs": [
    {
     "name": "stdout",
     "output_type": "stream",
     "text": [
      "1/1 [==============================] - 0s 39ms/step\n"
     ]
    },
    {
     "data": {
      "text/plain": [
       "Text(0.5, 1.0, 'kanaO')"
      ]
     },
     "execution_count": 127,
     "metadata": {},
     "output_type": "execute_result"
    },
    {
     "data": {
      "image/png": "[encoded data removed]",
      "text/plain": [
       "<Figure size 640x480 with 1 Axes>"
      ]
     },
     "metadata": {},
     "output_type": "display_data"
    }
   ],
   "source": [
    "def load_and_resize_image(filename, size1, size2):\n",
    "\n",
    "  # Load image\n",
    "  img = tf.io.read_file(filename)\n",
    "  \n",
    "  # Compile image\n",
    "  img = tf.image.decode_image(img)\n",
    "\n",
    "  # Resize image\n",
    "  img = tf.image.resize(img, [size1, size2])\n",
    "\n",
    "  # Scale the tensor\n",
    "  img = img / 255\n",
    "\n",
    "  return img\n",
    "\n",
    "image = load_and_resize_image(\"uploads/hhhh.png\", 83,84)\n",
    "\n",
    "image = image[:,:,:3]\n",
    "pred = model.predict(tf.expand_dims(image, axis=0))\n",
    "plt.imshow(image)\n",
    "plt.title(class_names[pred[0].argmax()])"
   ]
  },
  {
   "cell_type": "code",
   "execution_count": 128,
   "metadata": {},
   "outputs": [],
   "source": [
    "\n",
    "import pickle\n",
    "  \n",
    "# Save the trained model as a pickle string.\n",
    "saved_model = pickle.dumps(model)"
   ]
  },
  {
   "cell_type": "code",
   "execution_count": 129,
   "metadata": {},
   "outputs": [],
   "source": [
    "from joblib import Parallel, delayed\n",
    "import joblib"
   ]
  },
  {
   "cell_type": "code",
   "execution_count": 130,
   "metadata": {},
   "outputs": [],
   "source": [
    "joblib.dump(model, 'cnn_hiragana.pkl')\n",
    "  \n",
    "# Load the model from the file\n",
    "knn_from_joblib = joblib.load('cnn_hiragana.pkl')"
   ]
  },
  {
   "cell_type": "markdown",
   "metadata": {},
   "source": [
    "This is for running"
   ]
  },
  {
   "cell_type": "code",
   "execution_count": 12,
   "metadata": {},
   "outputs": [],
   "source": [
    "from joblib import Parallel, delayed\n",
    "import joblib\n",
    "import tensorflow as tf\n",
    "import numpy as np\n",
    "import matplotlib.pyplot as plt\n",
    "import cv2"
   ]
  },
  {
   "cell_type": "code",
   "execution_count": 3,
   "metadata": {},
   "outputs": [],
   "source": [
    "model = joblib.load('cnn_hiragana.pkl')"
   ]
  },
  {
   "cell_type": "code",
   "execution_count": null,
   "metadata": {},
   "outputs": [],
   "source": [
    "model = joblib.load('cnn_hiragana.pkl')"
   ]
  },
  {
   "cell_type": "code",
   "execution_count": 8,
   "metadata": {},
   "outputs": [
    {
     "name": "stdout",
     "output_type": "stream",
     "text": [
      "['KanaA' 'KanaBA' 'Test' 'Train' 'Val' 'kanaCHI' 'kanaDA' 'kanaE' 'kanaFU'\n",
      " 'kanaHA' 'kanaHE' 'kanaHI' 'kanaHO' 'kanaI' 'kanaJI' 'kanaKA' 'kanaKE'\n",
      " 'kanaKI' 'kanaKO' 'kanaKU' 'kanaMA' 'kanaME' 'kanaMI' 'kanaMO' 'kanaMU'\n",
      " 'kanaN' 'kanaNA' 'kanaNE' 'kanaNI' 'kanaNO' 'kanaNU' 'kanaO' 'kanaPI'\n",
      " 'kanaRA' 'kanaRE' 'kanaRI' 'kanaRO' 'kanaRU' 'kanaSA' 'kanaSE' 'kanaSHI'\n",
      " 'kanaSO' 'kanaSU' 'kanaTA' 'kanaTE' 'kanaTO' 'kanaTSU' 'kanaU' 'kanaWA'\n",
      " 'kanaWO' 'kanaYA' 'kanaYO' 'kanaYU']\n",
      "<class 'numpy.ndarray'>\n"
     ]
    }
   ],
   "source": [
    "class_names = get_class_names_from_folder(directory=\"hiragana/train_data/\")\n",
    "print(class_names)\n",
    "print(type(class_names))"
   ]
  },
  {
   "cell_type": "code",
   "execution_count": 35,
   "metadata": {},
   "outputs": [
    {
     "name": "stdout",
     "output_type": "stream",
     "text": [
      "1/1 [==============================] - 0s 26ms/step\n",
      "[[9.36859287e-03 1.09399967e-04 3.84204794e-14 1.30074586e-12\n",
      "  3.58438051e-14 3.17162037e-01 2.16405792e-03 3.65700180e-06\n",
      "  2.25347676e-03 2.64343871e-08 5.65746621e-14 1.32346685e-08\n",
      "  9.31015529e-05 3.10399276e-11 6.14003994e-08 7.34619275e-02\n",
      "  6.62492425e-08 2.47898297e-05 2.86408351e-04 1.01346232e-03\n",
      "  2.29920460e-09 1.53705116e-07 9.19503946e-05 3.48480995e-08\n",
      "  5.74459758e-10 4.99893353e-08 6.31614588e-03 6.43131716e-05\n",
      "  7.19566415e-08 2.25119506e-11 2.29585662e-09 7.61773390e-06\n",
      "  3.76703099e-07 7.17471167e-02 9.43778559e-07 2.40865802e-06\n",
      "  1.29908608e-06 1.86390826e-04 2.39341054e-04 1.15560855e-04\n",
      "  4.78855454e-13 5.39841466e-02 4.82896445e-10 3.17739023e-07\n",
      "  4.27794439e-04 6.57298926e-09 1.24522057e-05 1.40695440e-04\n",
      "  1.42254871e-11 4.60193098e-01 3.76542325e-10 2.38496621e-04\n",
      "  2.88068404e-04]]\n",
      "0.009368593\n",
      "0.00010939997\n",
      "3.842048e-14\n",
      "1.3007459e-12\n",
      "kanaWO\n",
      "1/1 [==============================] - 0s 18ms/step\n",
      "[[3.69469635e-02 6.89152814e-03 4.91069208e-13 6.69716192e-12\n",
      "  1.33494019e-13 2.16970630e-02 1.54471432e-03 3.65345768e-05\n",
      "  4.03941667e-04 4.76774773e-07 2.37704019e-12 6.81867007e-08\n",
      "  4.54593712e-04 7.11361470e-10 5.57732989e-08 4.96907495e-02\n",
      "  2.04043226e-06 1.71898563e-07 3.96062806e-03 6.11444796e-03\n",
      "  4.25150065e-05 2.15696809e-06 2.51915335e-04 2.18530135e-06\n",
      "  8.77840856e-11 2.51258587e-08 4.98493724e-02 9.12793726e-03\n",
      "  2.13430540e-05 1.04663037e-07 1.33820686e-06 5.14080457e-05\n",
      "  1.41315309e-06 1.56717896e-02 2.63026976e-07 2.99329884e-07\n",
      "  1.71026443e-06 1.88451784e-04 1.01231446e-03 3.64125735e-04\n",
      "  9.68395295e-11 4.08928354e-05 1.07567274e-07 5.93589311e-06\n",
      "  4.79238108e-04 9.17996612e-09 1.60944745e-01 1.08909953e-04\n",
      "  1.80693915e-09 2.54759435e-02 2.00599048e-09 6.08244300e-01\n",
      "  3.65208689e-04]]\n",
      "0.036946964\n",
      "0.006891528\n",
      "4.910692e-13\n",
      "6.697162e-12\n",
      "kanaYO\n",
      "1/1 [==============================] - 0s 20ms/step\n",
      "[[6.5672442e-02 3.5574695e-04 1.0540068e-13 8.4556938e-13 4.9371104e-14\n",
      "  9.8089380e-03 7.5923046e-03 3.2086857e-05 8.1715232e-04 2.6383984e-07\n",
      "  2.2716494e-11 4.4720405e-09 3.0658295e-04 6.0681224e-09 3.4575647e-09\n",
      "  1.8111587e-01 2.0731080e-07 1.3162812e-06 4.4819745e-04 1.3463985e-03\n",
      "  3.0633274e-08 3.0395206e-06 3.0724797e-04 1.8163720e-07 3.0022029e-09\n",
      "  1.8213225e-07 8.9768160e-05 5.6714233e-04 5.4922702e-07 1.7388466e-07\n",
      "  5.4187534e-08 6.5655336e-06 1.5069851e-08 3.4683925e-04 4.0758454e-07\n",
      "  5.6996095e-07 1.2778664e-05 2.9553596e-05 5.7809660e-04 1.6509528e-05\n",
      "  1.3005476e-12 1.0389492e-02 3.5916333e-08 1.5456743e-07 1.9104099e-02\n",
      "  1.6475577e-06 8.5549161e-04 2.6525155e-08 3.4655168e-11 6.9996643e-01\n",
      "  1.9210167e-10 1.7101056e-04 5.4336135e-05]]\n",
      "0.06567244\n",
      "0.00035574695\n",
      "1.0540068e-13\n",
      "8.455694e-13\n",
      "kanaWO\n",
      "1/1 [==============================] - 0s 20ms/step\n",
      "[[6.8101841e-01 2.3271386e-04 3.2740720e-14 4.9436052e-13 1.0390180e-14\n",
      "  3.4620604e-04 4.1853238e-04 5.1705337e-07 1.5797258e-04 1.0330723e-06\n",
      "  1.2578751e-12 2.3218092e-08 1.1744699e-04 2.6234919e-09 1.8593400e-10\n",
      "  1.1729381e-01 6.5501695e-07 2.7783756e-08 1.5314213e-03 5.8444394e-03\n",
      "  1.8955596e-07 3.6529732e-06 2.0463690e-04 5.7163941e-08 1.8443832e-12\n",
      "  7.2450234e-08 1.7364899e-03 1.6657478e-03 5.8904124e-07 3.4401126e-09\n",
      "  8.2965798e-08 2.2123718e-06 6.7792250e-08 6.6969678e-06 1.0893461e-08\n",
      "  2.1428914e-08 4.9679983e-07 9.9756180e-06 3.7171508e-06 7.7206842e-06\n",
      "  7.4598596e-13 5.1331303e-05 5.2380966e-09 4.7305139e-08 6.5242757e-06\n",
      "  3.0582117e-09 9.2957631e-02 6.2825194e-08 2.4646998e-11 4.7269519e-02\n",
      "  6.0369459e-11 4.9060687e-02 4.8561324e-05]]\n",
      "0.6810184\n",
      "0.00023271386\n",
      "3.274072e-14\n",
      "4.943605e-13\n",
      "KanaA\n",
      "1/1 [==============================] - 0s 20ms/step\n",
      "[[8.6274572e-02 1.7939969e-03 9.6028589e-13 1.1849951e-11 8.9099350e-13\n",
      "  4.2726262e-03 2.2425808e-02 6.7303822e-06 3.9848030e-04 1.8862642e-06\n",
      "  1.5944635e-11 3.1691283e-09 4.3152715e-03 8.1075885e-10 5.7361344e-08\n",
      "  3.3686981e-01 1.6387070e-04 1.4452977e-06 3.4594312e-03 5.1364160e-01\n",
      "  5.0737374e-09 3.2009336e-07 5.1036931e-04 3.1484063e-07 7.1649353e-09\n",
      "  4.4555591e-06 2.2734634e-03 7.3982758e-04 1.1067657e-04 9.9629469e-09\n",
      "  6.8593082e-09 3.7650581e-04 5.9461776e-08 3.6132027e-05 1.8777639e-06\n",
      "  4.9232034e-04 1.6102078e-05 9.4311772e-06 6.6050224e-04 1.7456436e-03\n",
      "  5.2298541e-13 1.2461158e-02 1.2419311e-10 3.6724832e-05 1.9480515e-04\n",
      "  3.1373329e-08 1.3222446e-04 1.1472193e-06 1.4064102e-09 6.5647033e-03\n",
      "  3.4244135e-11 4.0844884e-06 1.4747146e-06]]\n",
      "0.08627457\n",
      "0.0017939969\n",
      "9.602859e-13\n",
      "1.1849951e-11\n",
      "kanaKU\n"
     ]
    },
    {
     "data": {
      "image/png": "[encoded data removed]",
      "text/plain": [
       "<Figure size 640x480 with 1 Axes>"
      ]
     },
     "metadata": {},
     "output_type": "display_data"
    }
   ],
   "source": [
    "def load_and_resize_image(filename, size1, size2):\n",
    "\n",
    "  # Load image\n",
    "  img = tf.io.read_file(filename)\n",
    "  \n",
    "  # Compile image\n",
    "  img = tf.image.decode_image(img)\n",
    "\n",
    "  # Resize image\n",
    "  img = tf.image.resize(img, [size1, size2])\n",
    "\n",
    "  # Scale the tensor\n",
    "  img = img / 255\n",
    "\n",
    "  return img\n",
    "for i in range(1,6):\n",
    "  image = load_and_resize_image(f\"horizontal_parts\\part_7\\subpart_{i}.png\", 83, 84)\n",
    "  image = image[:,:,:3]\n",
    "  pred = model.predict(tf.expand_dims(image, axis=0))\n",
    "  print(pred)\n",
    "  print(pred[0][0])\n",
    "  print(pred[0][1])\n",
    "\n",
    "\n",
    "  print(pred[0][2])\n",
    "  print(pred[0][3])\n",
    "  print(class_names[pred[0].argmax()])\n",
    "  plt.imshow(image)\n",
    "  plt.title(class_names[pred[0].argmax()])"
   ]
  },
  {
   "cell_type": "code",
   "execution_count": 25,
   "metadata": {},
   "outputs": [],
   "source": [
    "import pickle\n",
    "filename=\"model.sav\"\n",
    "pickle.dump(model,open(filename,'wb'))"
   ]
  },
  {
   "cell_type": "code",
   "execution_count": null,
   "metadata": {},
   "outputs": [],
   "source": []
  }
 ],
 "metadata": {
  "kernelspec": {
   "display_name": "Python 3",
   "language": "python",
   "name": "python3"
  },
  "language_info": {
   "codemirror_mode": {
    "name": "ipython",
    "version": 3
   },
   "file_extension": ".py",
   "mimetype": "text/x-python",
   "name": "python",
   "nbconvert_exporter": "python",
   "pygments_lexer": "ipython3",
   "version": "3.10.11"
  },
  "orig_nbformat": 4
 },
 "nbformat": 4,
 "nbformat_minor": 2
}
