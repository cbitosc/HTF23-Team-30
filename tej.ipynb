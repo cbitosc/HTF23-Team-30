{
 "cells": [
  {
   "cell_type": "code",
   "execution_count": 7,
   "metadata": {},
   "outputs": [],
   "source": [
    "def get_class_names_from_folder(directory):\n",
    "  \"\"\"\n",
    "  Get the classnames from train folder for example\n",
    "  \"\"\"\n",
    "  import pathlib\n",
    "  import numpy as np\n",
    "  data_dir = pathlib.Path(directory)\n",
    "  class_names = np.array(sorted([item.name for item in data_dir.glob(\"*\")])) # Created a list of class names \n",
    "  return class_names\n",
    "  print(class_names)"
   ]
  },
  {
   "cell_type": "code",
   "execution_count": 72,
   "metadata": {},
   "outputs": [
    {
     "name": "stdout",
     "output_type": "stream",
     "text": [
      "['KanaA' 'KanaBA' 'Test' 'Train' 'Val' 'kanaCHI' 'kanaDA' 'kanaE' 'kanaFU'\n",
      " 'kanaHA' 'kanaHE' 'kanaHI' 'kanaHO' 'kanaI' 'kanaJI' 'kanaKA' 'kanaKE'\n",
      " 'kanaKI' 'kanaKO' 'kanaKU' 'kanaMA' 'kanaME' 'kanaMI' 'kanaMO' 'kanaMU'\n",
      " 'kanaN' 'kanaNA' 'kanaNE' 'kanaNI' 'kanaNO' 'kanaNU' 'kanaO' 'kanaPI'\n",
      " 'kanaRA' 'kanaRE' 'kanaRI' 'kanaRO' 'kanaRU' 'kanaSA' 'kanaSE' 'kanaSHI'\n",
      " 'kanaSO' 'kanaSU' 'kanaTA' 'kanaTE' 'kanaTO' 'kanaTSU' 'kanaU' 'kanaWA'\n",
      " 'kanaWO' 'kanaYA' 'kanaYO' 'kanaYU']\n",
      "<class 'numpy.ndarray'>\n"
     ]
    }
   ],
   "source": [
    "class_names = get_class_names_from_folder(directory=\"hiragana/train_data/\")\n",
    "print(class_names)\n",
    "print(type(class_names))"
   ]
  },
  {
   "cell_type": "code",
   "execution_count": 73,
   "metadata": {},
   "outputs": [],
   "source": [
    "import matplotlib.pyplot as plt\n",
    "import matplotlib.image as mpimg\n",
    "\n",
    "import os\n",
    "import random"
   ]
  },
  {
   "cell_type": "code",
   "execution_count": 75,
   "metadata": {},
   "outputs": [
    {
     "data": {
      "image/png": "[encoded data removed]",
      "text/plain": [
       "<Figure size 640x480 with 1 Axes>"
      ]
     },
     "metadata": {},
     "output_type": "display_data"
    }
   ],
   "source": [
    "def visualize_random_image(target_dir, target_class):\n",
    "  \"\"\"\n",
    "  Visualises random image from exact directory\n",
    "  \"\"\"\n",
    "  image_dir = target_dir + target_class\n",
    "  random_image = random.sample(os.listdir(image_dir), 1)\n",
    "\n",
    "  img = mpimg.imread(image_dir + \"/\" + random_image[0])\n",
    "  plt.imshow(img)\n",
    "  plt.title(target_class)\n",
    "visualize_random_image(\"hiragana/train_data/\", \"KanaTSU\")"
   ]
  },
  {
   "cell_type": "code",
   "execution_count": 101,
   "metadata": {},
   "outputs": [
    {
     "name": "stdout",
     "output_type": "stream",
     "text": [
      "Found 800 images belonging to 53 classes.\n"
     ]
    },
    {
     "name": "stdout",
     "output_type": "stream",
     "text": [
      "Found 100 images belonging to 53 classes.\n",
      "Found 100 images belonging to 53 classes.\n"
     ]
    }
   ],
   "source": [
    "import tensorflow as tf\n",
    "from tensorflow.keras.preprocessing.image import ImageDataGenerator\n",
    "\n",
    "train_datagen = ImageDataGenerator(rescale=1/255.)\n",
    "test_datagen = ImageDataGenerator(rescale=1/255.)\n",
    "val_datagen = ImageDataGenerator(rescale=1/255.)\n",
    "\n",
    "train_data = train_datagen.flow_from_directory(directory=\"hiragana/train_data/\",\n",
    "                                               target_size=(83, 84),\n",
    "                                               batch_size=32,\n",
    "                                               class_mode=\"categorical\")\n",
    "\n",
    "test_data = test_datagen.flow_from_directory(directory=\"hiragana/test_data/\",\n",
    "                                               target_size=(83, 84),\n",
    "                                               batch_size=32,\n",
    "                                               class_mode=\"categorical\")\n",
    "\n",
    "validation_data = val_datagen.flow_from_directory(directory=\"hiragana/val_data\",\n",
    "                                               target_size=(83, 84),\n",
    "                                               batch_size=32,\n",
    "                                               class_mode=\"categorical\")"
   ]
  },
  {
   "cell_type": "code",
   "execution_count": 102,
   "metadata": {},
   "outputs": [],
   "source": [
    "from tensorflow.keras.models import Sequential\n",
    "from tensorflow.keras.layers import Dense, Flatten, Conv2D, MaxPool2D\n",
    "from tensorflow.keras.optimizers import Adam"
   ]
  },
  {
   "cell_type": "code",
   "execution_count": 107,
   "metadata": {},
   "outputs": [],
   "source": [
    "# Create model\n",
    "model = Sequential([\n",
    "    Conv2D(10, 3, activation=\"relu\", input_shape=(83, 84, 3)),\n",
    "    MaxPool2D(pool_size=2),\n",
    "    Conv2D(10, 3, activation=\"relu\"),\n",
    "    MaxPool2D(pool_size=2),\n",
    "    Flatten(),\n",
    "    Dense(53, activation=\"softmax\")\n",
    "])\n",
    "\n",
    "# Compile the model\n",
    "model.compile(loss=\"categorical_crossentropy\",\n",
    "              optimizer=Adam(),\n",
    "              metrics=[\"accuracy\"])"
   ]
  },
  {
   "cell_type": "code",
   "execution_count": 108,
   "metadata": {},
   "outputs": [
    {
     "name": "stdout",
     "output_type": "stream",
     "text": [
      "Model: \"sequential_15\"\n",
      "_________________________________________________________________\n",
      " Layer (type)                Output Shape              Param #   \n",
      "=================================================================\n",
      " conv2d_30 (Conv2D)          (None, 81, 82, 10)        280       \n",
      "                                                                 \n",
      " max_pooling2d_30 (MaxPoolin  (None, 40, 41, 10)       0         \n",
      " g2D)                                                            \n",
      "                                                                 \n",
      " conv2d_31 (Conv2D)          (None, 38, 39, 10)        910       \n",
      "                                                                 \n",
      " max_pooling2d_31 (MaxPoolin  (None, 19, 19, 10)       0         \n",
      " g2D)                                                            \n",
      "                                                                 \n",
      " flatten_15 (Flatten)        (None, 3610)              0         \n",
      "                                                                 \n",
      " dense_15 (Dense)            (None, 53)                191383    \n",
      "                                                                 \n",
      "=================================================================\n",
      "Total params: 192,573\n",
      "Trainable params: 192,573\n",
      "Non-trainable params: 0\n",
      "_________________________________________________________________\n"
     ]
    }
   ],
   "source": [
    "model.summary()"
   ]
  },
  {
   "cell_type": "code",
   "execution_count": 109,
   "metadata": {},
   "outputs": [
    {
     "name": "stdout",
     "output_type": "stream",
     "text": [
      "Epoch 1/15\n",
      "25/25 [==============================] - 3s 106ms/step - loss: 3.1403 - accuracy: 0.3262 - val_loss: 1.2522 - val_accuracy: 0.8600\n",
      "Epoch 2/15\n",
      "25/25 [==============================] - 1s 42ms/step - loss: 0.3641 - accuracy: 0.9200 - val_loss: 0.3404 - val_accuracy: 0.9000\n",
      "Epoch 3/15\n",
      "25/25 [==============================] - 1s 43ms/step - loss: 0.0745 - accuracy: 0.9762 - val_loss: 0.3837 - val_accuracy: 0.8800\n",
      "Epoch 4/15\n",
      "25/25 [==============================] - 1s 41ms/step - loss: 0.0294 - accuracy: 0.9912 - val_loss: 0.3928 - val_accuracy: 0.8600\n",
      "Epoch 5/15\n",
      "25/25 [==============================] - 1s 41ms/step - loss: 0.0153 - accuracy: 0.9912 - val_loss: 0.4360 - val_accuracy: 0.8700\n",
      "Epoch 6/15\n",
      "25/25 [==============================] - 1s 42ms/step - loss: 0.0080 - accuracy: 0.9975 - val_loss: 0.3054 - val_accuracy: 0.8900\n",
      "Epoch 7/15\n",
      "25/25 [==============================] - 1s 42ms/step - loss: 0.0048 - accuracy: 0.9987 - val_loss: 0.3096 - val_accuracy: 0.9100\n",
      "Epoch 8/15\n",
      "25/25 [==============================] - 1s 43ms/step - loss: 0.0016 - accuracy: 1.0000 - val_loss: 0.3048 - val_accuracy: 0.9000\n",
      "Epoch 9/15\n",
      "25/25 [==============================] - 1s 41ms/step - loss: 7.5762e-04 - accuracy: 1.0000 - val_loss: 0.3048 - val_accuracy: 0.9000\n",
      "Epoch 10/15\n",
      "25/25 [==============================] - 1s 40ms/step - loss: 5.8465e-04 - accuracy: 1.0000 - val_loss: 0.3022 - val_accuracy: 0.8900\n",
      "Epoch 11/15\n",
      "25/25 [==============================] - 1s 42ms/step - loss: 4.7823e-04 - accuracy: 1.0000 - val_loss: 0.3078 - val_accuracy: 0.8900\n",
      "Epoch 12/15\n",
      "25/25 [==============================] - 1s 44ms/step - loss: 4.0280e-04 - accuracy: 1.0000 - val_loss: 0.3061 - val_accuracy: 0.8900\n",
      "Epoch 13/15\n",
      "25/25 [==============================] - 1s 42ms/step - loss: 3.4138e-04 - accuracy: 1.0000 - val_loss: 0.3070 - val_accuracy: 0.8900\n",
      "Epoch 14/15\n",
      "25/25 [==============================] - 1s 42ms/step - loss: 2.8848e-04 - accuracy: 1.0000 - val_loss: 0.3106 - val_accuracy: 0.8900\n",
      "Epoch 15/15\n",
      "25/25 [==============================] - 1s 42ms/step - loss: 2.5187e-04 - accuracy: 1.0000 - val_loss: 0.3120 - val_accuracy: 0.8900\n"
     ]
    }
   ],
   "source": [
    "history = model.fit(train_data,\n",
    "                    batch_size=32,\n",
    "                    epochs=15,\n",
    "                    steps_per_epoch=len(train_data),\n",
    "                    validation_data=validation_data,\n",
    "                    validation_steps=len(validation_data))"
   ]
  },
  {
   "cell_type": "code",
   "execution_count": 110,
   "metadata": {},
   "outputs": [
    {
     "name": "stdout",
     "output_type": "stream",
     "text": [
      "4/4 [==============================] - 0s 79ms/step - loss: 0.3425 - accuracy: 0.9200\n"
     ]
    },
    {
     "data": {
      "text/plain": [
       "[0.34254541993141174, 0.9200000166893005]"
      ]
     },
     "execution_count": 110,
     "metadata": {},
     "output_type": "execute_result"
    }
   ],
   "source": [
    "model.evaluate(test_data)"
   ]
  },
  {
   "cell_type": "code",
   "execution_count": 127,
   "metadata": {},
   "outputs": [
    {
     "name": "stdout",
     "output_type": "stream",
     "text": [
      "1/1 [==============================] - 0s 39ms/step\n"
     ]
    },
    {
     "data": {
      "text/plain": [
       "Text(0.5, 1.0, 'kanaO')"
      ]
     },
     "execution_count": 127,
     "metadata": {},
     "output_type": "execute_result"
    },
    {
     "data": {
      "image/png": "[encoded data removed]",
      "text/plain": [
       "<Figure size 640x480 with 1 Axes>"
      ]
     },
     "metadata": {},
     "output_type": "display_data"
    }
   ],
   "source": [
    "def load_and_resize_image(filename, size1, size2):\n",
    "\n",
    "  # Load image\n",
    "  img = tf.io.read_file(filename)\n",
    "  \n",
    "  # Compile image\n",
    "  img = tf.image.decode_image(img)\n",
    "\n",
    "  # Resize image\n",
    "  img = tf.image.resize(img, [size1, size2])\n",
    "\n",
    "  # Scale the tensor\n",
    "  img = img / 255\n",
    "\n",
    "  return img\n",
    "\n",
    "image = load_and_resize_image(\"uploads/hhhh.png\", 83,84)\n",
    "\n",
    "image = image[:,:,:3]\n",
    "pred = model.predict(tf.expand_dims(image, axis=0))\n",
    "plt.imshow(image)\n",
    "plt.title(class_names[pred[0].argmax()])"
   ]
  },
  {
   "cell_type": "code",
   "execution_count": 128,
   "metadata": {},
   "outputs": [],
   "source": [
    "\n",
    "import pickle\n",
    "  \n",
    "# Save the trained model as a pickle string.\n",
    "saved_model = pickle.dumps(model)"
   ]
  },
  {
   "cell_type": "code",
   "execution_count": 129,
   "metadata": {},
   "outputs": [],
   "source": [
    "from joblib import Parallel, delayed\n",
    "import joblib"
   ]
  },
  {
   "cell_type": "code",
   "execution_count": 130,
   "metadata": {},
   "outputs": [],
   "source": [
    "joblib.dump(model, 'cnn_hiragana.pkl')\n",
    "  \n",
    "# Load the model from the file\n",
    "knn_from_joblib = joblib.load('cnn_hiragana.pkl')"
   ]
  },
  {
   "cell_type": "markdown",
   "metadata": {},
   "source": [
    "This is for running"
   ]
  },
  {
   "cell_type": "code",
   "execution_count": 12,
   "metadata": {},
   "outputs": [],
   "source": [
    "from joblib import Parallel, delayed\n",
    "import joblib\n",
    "import tensorflow as tf\n",
    "import numpy as np\n",
    "import matplotlib.pyplot as plt\n",
    "import cv2"
   ]
  },
  {
   "cell_type": "code",
   "execution_count": 3,
   "metadata": {},
   "outputs": [],
   "source": [
    "model = joblib.load('cnn_hiragana.pkl')"
   ]
  },
  {
   "cell_type": "code",
   "execution_count": null,
   "metadata": {},
   "outputs": [],
   "source": [
    "model = joblib.load('cnn_hiragana.pkl')"
   ]
  },
  {
   "cell_type": "code",
   "execution_count": 8,
   "metadata": {},
   "outputs": [
    {
     "name": "stdout",
     "output_type": "stream",
     "text": [
      "['KanaA' 'KanaBA' 'Test' 'Train' 'Val' 'kanaCHI' 'kanaDA' 'kanaE' 'kanaFU'\n",
      " 'kanaHA' 'kanaHE' 'kanaHI' 'kanaHO' 'kanaI' 'kanaJI' 'kanaKA' 'kanaKE'\n",
      " 'kanaKI' 'kanaKO' 'kanaKU' 'kanaMA' 'kanaME' 'kanaMI' 'kanaMO' 'kanaMU'\n",
      " 'kanaN' 'kanaNA' 'kanaNE' 'kanaNI' 'kanaNO' 'kanaNU' 'kanaO' 'kanaPI'\n",
      " 'kanaRA' 'kanaRE' 'kanaRI' 'kanaRO' 'kanaRU' 'kanaSA' 'kanaSE' 'kanaSHI'\n",
      " 'kanaSO' 'kanaSU' 'kanaTA' 'kanaTE' 'kanaTO' 'kanaTSU' 'kanaU' 'kanaWA'\n",
      " 'kanaWO' 'kanaYA' 'kanaYO' 'kanaYU']\n",
      "<class 'numpy.ndarray'>\n"
     ]
    }
   ],
   "source": [
    "class_names = get_class_names_from_folder(directory=\"hiragana/train_data/\")\n",
    "print(class_names)\n",
    "print(type(class_names))"
   ]
  },
  {
   "cell_type": "code",
   "execution_count": 40,
   "metadata": {},
   "outputs": [
    {
     "name": "stdout",
     "output_type": "stream",
     "text": [
      "1/1 [==============================] - 0s 29ms/step\n",
      "kanaHE\n",
      "1/1 [==============================] - 0s 23ms/step\n",
      "kanaHE\n",
      "1/1 [==============================] - 0s 22ms/step\n",
      "kanaI\n",
      "1/1 [==============================] - 0s 23ms/step\n",
      "kanaKI\n",
      "1/1 [==============================] - 0s 24ms/step\n",
      "kanaKI\n",
      "1/1 [==============================] - 0s 22ms/step\n",
      "KanaA\n",
      "1/1 [==============================] - 0s 24ms/step\n",
      "KanaA\n",
      "1/1 [==============================] - 0s 25ms/step\n",
      "kanaFU\n",
      "1/1 [==============================] - 0s 26ms/step\n",
      "kanaO\n",
      "1/1 [==============================] - 0s 29ms/step\n",
      "kanaHO\n",
      "1/1 [==============================] - 0s 26ms/step\n",
      "kanaI\n",
      "1/1 [==============================] - 0s 23ms/step\n",
      "KanaA\n",
      "1/1 [==============================] - 0s 26ms/step\n",
      "KanaA\n",
      "1/1 [==============================] - 0s 32ms/step\n",
      "kanaO\n",
      "1/1 [==============================] - 0s 38ms/step\n",
      "kanaNI\n",
      "1/1 [==============================] - 0s 25ms/step\n",
      "KanaA\n",
      "1/1 [==============================] - 0s 21ms/step\n",
      "kanaFU\n",
      "1/1 [==============================] - 0s 21ms/step\n",
      "kanaI\n",
      "1/1 [==============================] - 0s 23ms/step\n",
      "kanaO\n",
      "1/1 [==============================] - 0s 21ms/step\n",
      "kanaO\n",
      "1/1 [==============================] - 0s 22ms/step\n",
      "KanaA\n",
      "1/1 [==============================] - 0s 24ms/step\n",
      "KanaA\n",
      "1/1 [==============================] - 0s 22ms/step\n",
      "kanaO\n",
      "1/1 [==============================] - 0s 21ms/step\n",
      "kanaFU\n",
      "1/1 [==============================] - 0s 22ms/step\n",
      "kanaFU\n",
      "1/1 [==============================] - 0s 28ms/step\n",
      "kanaME\n",
      "1/1 [==============================] - 0s 22ms/step\n",
      "kanaI\n",
      "1/1 [==============================] - 0s 23ms/step\n",
      "kanaKA\n",
      "1/1 [==============================] - 0s 23ms/step\n",
      "kanaFU\n",
      "1/1 [==============================] - 0s 22ms/step\n",
      "kanaFU\n",
      "1/1 [==============================] - 0s 20ms/step\n",
      "KanaA\n",
      "1/1 [==============================] - 0s 25ms/step\n",
      "KanaA\n",
      "1/1 [==============================] - 0s 24ms/step\n",
      "kanaI\n",
      "1/1 [==============================] - 0s 23ms/step\n",
      "kanaNA\n",
      "1/1 [==============================] - 0s 21ms/step\n",
      "kanaI\n",
      "1/1 [==============================] - 0s 24ms/step\n",
      "kanaKA\n",
      "1/1 [==============================] - 0s 22ms/step\n",
      "kanaI\n",
      "1/1 [==============================] - 0s 21ms/step\n",
      "kanaFU\n",
      "1/1 [==============================] - 0s 23ms/step\n",
      "kanaO\n",
      "1/1 [==============================] - 0s 24ms/step\n",
      "kanaMI\n",
      "1/1 [==============================] - 0s 21ms/step\n",
      "kanaKA\n",
      "1/1 [==============================] - 0s 23ms/step\n",
      "KanaA\n",
      "1/1 [==============================] - 0s 24ms/step\n",
      "kanaHE\n",
      "1/1 [==============================] - 0s 22ms/step\n",
      "kanaI\n",
      "1/1 [==============================] - 0s 22ms/step\n",
      "kanaFU\n",
      "1/1 [==============================] - 0s 22ms/step\n",
      "kanaME\n",
      "1/1 [==============================] - 0s 21ms/step\n",
      "KanaA\n",
      "1/1 [==============================] - 0s 22ms/step\n",
      "KanaA\n",
      "1/1 [==============================] - 0s 19ms/step\n",
      "kanaO\n",
      "1/1 [==============================] - 0s 22ms/step\n",
      "kanaHO\n"
     ]
    }
   ],
   "source": [
    "def load_and_resize_image(filename, size1, size2):\n",
    "\n",
    "  # Load image\n",
    "  img = tf.io.read_file(filename)\n",
    "  \n",
    "  # Compile image\n",
    "  img = tf.image.decode_image(img)\n",
    "\n",
    "  # Resize image\n",
    "  img = tf.image.resize(img, [size1, size2])\n",
    "\n",
    "  # Scale the tensor\n",
    "  img = img / 255\n",
    "\n",
    "  return img\n",
    "for i in range(1,11):\n",
    "\n",
    "  for j in range(1,6):\n",
    "    image = load_and_resize_image(f\"horizontal_parts\\part_{i}\\subpart_{j}.png\", 83, 84)\n",
    "    image = image[:,:,:3]\n",
    "    pred = model.predict(tf.expand_dims(image, axis=0))\n",
    "    # print(pred)\n",
    "    # print(pred[0][0])\n",
    "    # print(pred[0][1])\n",
    "\n",
    "\n",
    "    # print(pred[0][2])\n",
    "    # print(pred[0][3])\n",
    "    print(class_names[pred[0].argmax()])\n",
    "  # plt.imshow(image)\n",
    "  # plt.title(class_names[pred[0].argmax()])"
   ]
  },
  {
   "cell_type": "code",
   "execution_count": 25,
   "metadata": {},
   "outputs": [],
   "source": [
    "import pickle\n",
    "filename=\"model.sav\"\n",
    "pickle.dump(model,open(filename,'wb'))"
   ]
  },
  {
   "cell_type": "code",
   "execution_count": null,
   "metadata": {},
   "outputs": [],
   "source": []
  }
 ],
 "metadata": {
  "kernelspec": {
   "display_name": "Python 3",
   "language": "python",
   "name": "python3"
  },
  "language_info": {
   "codemirror_mode": {
    "name": "ipython",
    "version": 3
   },
   "file_extension": ".py",
   "mimetype": "text/x-python",
   "name": "python",
   "nbconvert_exporter": "python",
   "pygments_lexer": "ipython3",
   "version": "3.10.11"
  },
  "orig_nbformat": 4
 },
 "nbformat": 4,
 "nbformat_minor": 2
}
